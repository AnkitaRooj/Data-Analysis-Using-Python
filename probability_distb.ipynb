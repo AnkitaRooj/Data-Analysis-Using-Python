{
 "cells": [
  {
   "cell_type": "code",
   "execution_count": 1,
   "metadata": {},
   "outputs": [],
   "source": [
    "import numpy as np\n",
    "import scipy"
   ]
  },
  {
   "cell_type": "code",
   "execution_count": 2,
   "metadata": {},
   "outputs": [],
   "source": [
    "from scipy.stats import binom"
   ]
  },
  {
   "attachments": {},
   "cell_type": "markdown",
   "metadata": {},
   "source": [
    "# Binomial Distribution"
   ]
  },
  {
   "attachments": {},
   "cell_type": "markdown",
   "metadata": {},
   "source": [
    "##### A survey found that 65% of all financial consumers were very satisfied with their primary financial institution. Suppos that 25 financial consumers are sampled & if survey results still holds true today, what is the probability that exactly 19 are satisfied with their primary financial institution?"
   ]
  },
  {
   "cell_type": "code",
   "execution_count": 3,
   "metadata": {},
   "outputs": [
    {
     "data": {
      "text/plain": [
       "0.09077799859322798"
      ]
     },
     "execution_count": 3,
     "metadata": {},
     "output_type": "execute_result"
    }
   ],
   "source": [
    "p=0.65\n",
    "n=25\n",
    "k=19\n",
    "binom.pmf(19,25,0.65)"
   ]
  },
  {
   "attachments": {},
   "cell_type": "markdown",
   "metadata": {},
   "source": [
    "##### According to US consus Bureau approx 6% of all workers in Jackson Mississippi are unemployed in conducting a random telephone survey in Jackson , what is the probability of getting 2 or fewer unemployed workers in a sample of 20?"
   ]
  },
  {
   "cell_type": "code",
   "execution_count": 4,
   "metadata": {},
   "outputs": [
    {
     "data": {
      "text/plain": [
       "0.8850275957378548"
      ]
     },
     "execution_count": 4,
     "metadata": {},
     "output_type": "execute_result"
    }
   ],
   "source": [
    "p=0.06\n",
    "k=2\n",
    "n=20\n",
    "# P(x<=2)=binom.cdf(k=2,n=20,p=0.06)\n",
    "binom.cdf(k=2,n=20,p=0.06)"
   ]
  },
  {
   "attachments": {},
   "cell_type": "markdown",
   "metadata": {},
   "source": [
    "# Poisson Distribution"
   ]
  },
  {
   "attachments": {},
   "cell_type": "markdown",
   "metadata": {},
   "source": [
    "#### Say a bank customer arrive randomly on weekday afternoon at average of 3.2 customers every 4 min. what is the probability of exactly 5 customers arriving in a 4 min interval on weekay afternoon? "
   ]
  },
  {
   "cell_type": "code",
   "execution_count": 5,
   "metadata": {},
   "outputs": [],
   "source": [
    "from scipy.stats import poisson"
   ]
  },
  {
   "cell_type": "code",
   "execution_count": 8,
   "metadata": {},
   "outputs": [
    {
     "data": {
      "text/plain": [
       "0.11397938346351824"
      ]
     },
     "execution_count": 8,
     "metadata": {},
     "output_type": "execute_result"
    }
   ],
   "source": [
    "mean=3.2 # per 4 min\n",
    "k=5\n",
    "poisson.pmf(5,3.2)"
   ]
  },
  {
   "attachments": {},
   "cell_type": "markdown",
   "metadata": {},
   "source": [
    "#### Say a bank customer arrive randomly on weekday afternoon at average of 3.2 customers every 4 min. what is the probability of having more than 7 customers arriving in a 4 min interval on weekay afternoon? "
   ]
  },
  {
   "cell_type": "code",
   "execution_count": 11,
   "metadata": {},
   "outputs": [
    {
     "data": {
      "text/plain": [
       "0.01682984174895752"
      ]
     },
     "execution_count": 11,
     "metadata": {},
     "output_type": "execute_result"
    }
   ],
   "source": [
    "mean=3.2\n",
    "k=7\n",
    "# p(x>7)=1-p(x<=7)\n",
    "# p(x<=7)=poisson.cdf(7,3.2)\n",
    "prob_lessthan_7=poisson.cdf(7,3.2)\n",
    "prob_morethan_7=1-prob_lessthan_7\n",
    "prob_morethan_7\n"
   ]
  },
  {
   "attachments": {},
   "cell_type": "markdown",
   "metadata": {},
   "source": [
    "#### Say a bank customer arrive randomly on weekday afternoon at average of 3.2 customers every 4 min. what is the probability of getting exactly 10 customers arriving in a 8 min interval on weekay afternoon? "
   ]
  },
  {
   "cell_type": "code",
   "execution_count": 13,
   "metadata": {},
   "outputs": [
    {
     "data": {
      "text/plain": [
       "0.06488190866272874"
      ]
     },
     "execution_count": 13,
     "metadata": {},
     "output_type": "execute_result"
    }
   ],
   "source": [
    "# at every 4 min=3.2 customers\n",
    "# 1 min=3.2/4 customers\n",
    "# 8 min=3.4*8/4 customers\n",
    "mean=(3.4*8)/4\n",
    "k=10\n",
    "poisson.pmf(10,mean)"
   ]
  },
  {
   "attachments": {},
   "cell_type": "markdown",
   "metadata": {},
   "source": [
    "# Uniform Distribution"
   ]
  },
  {
   "attachments": {},
   "cell_type": "markdown",
   "metadata": {},
   "source": [
    "#### Suppose the amount of time it takes to assemble a plastic module ranges from 27 to 39 sec & that assembly times are uniformly distributed. Describe the distribution . what is the probability that a given assembly will take beteen 30 & 35 sec?"
   ]
  },
  {
   "cell_type": "code",
   "execution_count": 16,
   "metadata": {},
   "outputs": [],
   "source": [
    "from scipy.stats import uniform"
   ]
  },
  {
   "cell_type": "code",
   "execution_count": 18,
   "metadata": {},
   "outputs": [],
   "source": [
    "u1=np.arange(27,40,1)\n",
    "u=np.arange(30,36,1)"
   ]
  },
  {
   "cell_type": "code",
   "execution_count": 29,
   "metadata": {},
   "outputs": [
    {
     "name": "stdout",
     "output_type": "stream",
     "text": [
      "33.0\n",
      "3.4641016151377544\n",
      "[0.25       0.33333333 0.41666667 0.5        0.58333333 0.66666667]\n"
     ]
    },
    {
     "data": {
      "text/plain": [
       "0.41666666666666663"
      ]
     },
     "execution_count": 29,
     "metadata": {},
     "output_type": "execute_result"
    }
   ],
   "source": [
    "starting_point=27\n",
    "scale=39-27\n",
    "mean=uniform.mean(loc=starting_point,scale=scale)\n",
    "print(mean)\n",
    "\n",
    "std=uniform.std(loc=starting_point,scale=scale)\n",
    "print(std)\n",
    "\n",
    "prob_uniform=uniform.cdf(u,loc=starting_point,scale=scale)\n",
    "print(prob_uniform)\n",
    "\n",
    "# P(30<=x<=35)=prob_uniform[5]-prob_uniform[0]\n",
    "prob_uniform[5]\n",
    "prob_uniform[0]\n",
    "prob_uniform[5]-prob_uniform[0]"
   ]
  },
  {
   "attachments": {},
   "cell_type": "markdown",
   "metadata": {},
   "source": [
    "#### according to national association of insurance commissioners , the average annual cost for automobile insurance in US in recent years was $691. Suppose automobile insurance cost an uniform distribution in US ith a range from $200 to $1182 . what is the sd of this uniform distribution?"
   ]
  },
  {
   "cell_type": "code",
   "execution_count": 31,
   "metadata": {},
   "outputs": [
    {
     "data": {
      "text/plain": [
       "283.4789821721062"
      ]
     },
     "execution_count": 31,
     "metadata": {},
     "output_type": "execute_result"
    }
   ],
   "source": [
    "mean=691\n",
    "scale=1182-200\n",
    "uniform.std(loc=200,scale=1182-200)"
   ]
  },
  {
   "attachments": {},
   "cell_type": "markdown",
   "metadata": {},
   "source": [
    "# Hypergeometric Distribution\n",
    "\n",
    "P(x=k)=(C(r,k)*C(N-r,n-k))/C(N,n)"
   ]
  },
  {
   "attachments": {},
   "cell_type": "markdown",
   "metadata": {},
   "source": [
    "#### A western city has 18 police oficers eligible . eleven of them are hispanic. suppose only 5 of the police officers are chosen for promotion . if the officers chosen for promotion had been selected by chane alone , what is the probability that one or fewer of the 5 promoted officers would've been hispanic?"
   ]
  },
  {
   "cell_type": "code",
   "execution_count": 32,
   "metadata": {},
   "outputs": [],
   "source": [
    "from scipy.stats import hypergeom"
   ]
  },
  {
   "cell_type": "code",
   "execution_count": 33,
   "metadata": {},
   "outputs": [
    {
     "data": {
      "text/plain": [
       "0.04738562091503268"
      ]
     },
     "execution_count": 33,
     "metadata": {},
     "output_type": "execute_result"
    }
   ],
   "source": [
    "N=18\n",
    "start_pt=1\n",
    "n=11\n",
    "r=5\n",
    "\n",
    "hypergeom.cdf(start_pt,N,r,n)"
   ]
  },
  {
   "attachments": {},
   "cell_type": "markdown",
   "metadata": {},
   "source": [
    "#### Suppose 18 major computer companies operate in US & that 12 are located in California 's Silicon Valley. If 3 computers are selected randomly from the entire list. What is the probability that one or more of the selected companies are located in Silicon Valley?"
   ]
  },
  {
   "cell_type": "code",
   "execution_count": 37,
   "metadata": {},
   "outputs": [
    {
     "name": "stdout",
     "output_type": "stream",
     "text": [
      "0.9754901960784313\n",
      "-0.22058823529411764\n"
     ]
    }
   ],
   "source": [
    "N=18\n",
    "n=12\n",
    "r=3\n",
    "k=0\n",
    "# P(x>=1)=1-P(0<=x<1)\n",
    "# sf=survival function=1-cdf=hypergeom.sf(0,N,r,n)\n",
    "print(hypergeom.sf(0,N,r,n))\n",
    "print(hypergeom.cdf(0,N,r,n)-hypergeom.cdf(1,N,r,n))"
   ]
  },
  {
   "attachments": {},
   "cell_type": "markdown",
   "metadata": {},
   "source": [
    "# Normal Distribution"
   ]
  },
  {
   "attachments": {},
   "cell_type": "markdown",
   "metadata": {},
   "source": [
    "#### What is the probability of obtaining a score greater than 700 on a GMAT test that has a mean of 494 & sd of 100? Assume GMAT score are normally distributed"
   ]
  },
  {
   "cell_type": "code",
   "execution_count": 38,
   "metadata": {},
   "outputs": [],
   "source": [
    "from scipy.stats import norm"
   ]
  },
  {
   "cell_type": "code",
   "execution_count": 40,
   "metadata": {},
   "outputs": [
    {
     "data": {
      "text/plain": [
       "0.9803007295906231"
      ]
     },
     "execution_count": 40,
     "metadata": {},
     "output_type": "execute_result"
    }
   ],
   "source": [
    "# p(x<=700)=norm.cdf(700,494,100)\n",
    "norm.cdf(700,494,100)"
   ]
  },
  {
   "cell_type": "code",
   "execution_count": 41,
   "metadata": {},
   "outputs": [
    {
     "data": {
      "text/plain": [
       "0.019699270409376912"
      ]
     },
     "execution_count": 41,
     "metadata": {},
     "output_type": "execute_result"
    }
   ],
   "source": [
    "# p(x>700)=1-p(x<=700)\n",
    "1-norm.cdf(700,494,100)"
   ]
  },
  {
   "attachments": {},
   "cell_type": "markdown",
   "metadata": {},
   "source": [
    "#### for the same GMAT exam , what is the probability of randomly drawing score that is 550 or less?"
   ]
  },
  {
   "cell_type": "code",
   "execution_count": 42,
   "metadata": {},
   "outputs": [
    {
     "data": {
      "text/plain": [
       "0.712260281150973"
      ]
     },
     "execution_count": 42,
     "metadata": {},
     "output_type": "execute_result"
    }
   ],
   "source": [
    "# p(x<=550)=norm.cdf(550,494,100), mean=494,sd=100\n",
    "norm.cdf(550,494,100)"
   ]
  },
  {
   "attachments": {},
   "cell_type": "markdown",
   "metadata": {},
   "source": [
    "#### what is the probability of randomly obtaining score between 300 & 600 on GMAT exam?"
   ]
  },
  {
   "cell_type": "code",
   "execution_count": 43,
   "metadata": {},
   "outputs": [
    {
     "data": {
      "text/plain": [
       "0.8292378553956377"
      ]
     },
     "execution_count": 43,
     "metadata": {},
     "output_type": "execute_result"
    }
   ],
   "source": [
    "norm.cdf(600,494,100)-norm.cdf(300,494,100)"
   ]
  },
  {
   "attachments": {},
   "cell_type": "markdown",
   "metadata": {},
   "source": [
    "alpha=significance level=area under curve=probability\n",
    "1-alpha=confidence level=area under curve=probability\n",
    "z_val=norm.ppf(0.95)\n",
    "probability=0.95"
   ]
  },
  {
   "cell_type": "code",
   "execution_count": 45,
   "metadata": {},
   "outputs": [
    {
     "data": {
      "text/plain": [
       "1.6448536269514722"
      ]
     },
     "execution_count": 45,
     "metadata": {},
     "output_type": "execute_result"
    }
   ],
   "source": [
    "z_val=norm.ppf(0.95)\n",
    "z_val"
   ]
  },
  {
   "attachments": {},
   "cell_type": "markdown",
   "metadata": {},
   "source": [
    "# Exponential Distribution"
   ]
  },
  {
   "attachments": {},
   "cell_type": "markdown",
   "metadata": {},
   "source": [
    "#### a manufacturing firm has been involved in statistical quality control for several years . as part of production process parts are randomly selected & tested. from the record of these tests , it has been established that a detective part occurs in a pattern that is poisson distribution on the average of 1.38 defects every 20 min during production runs. use this info to determine the probability that's less than 15 min will elapse between any 2 defects?"
   ]
  },
  {
   "cell_type": "code",
   "execution_count": 46,
   "metadata": {},
   "outputs": [],
   "source": [
    "from scipy.stats import expon"
   ]
  },
  {
   "cell_type": "code",
   "execution_count": 47,
   "metadata": {},
   "outputs": [
    {
     "data": {
      "text/plain": [
       "0.6447736190750485"
      ]
     },
     "execution_count": 47,
     "metadata": {},
     "output_type": "execute_result"
    }
   ],
   "source": [
    "mean=1/1.38\n",
    "t=15/20\n",
    "expon.cdf(t,0,mean)"
   ]
  }
 ],
 "metadata": {
  "kernelspec": {
   "display_name": ".venv",
   "language": "python",
   "name": "python3"
  },
  "language_info": {
   "codemirror_mode": {
    "name": "ipython",
    "version": 3
   },
   "file_extension": ".py",
   "mimetype": "text/x-python",
   "name": "python",
   "nbconvert_exporter": "python",
   "pygments_lexer": "ipython3",
   "version": "3.9.6"
  },
  "orig_nbformat": 4
 },
 "nbformat": 4,
 "nbformat_minor": 2
}
